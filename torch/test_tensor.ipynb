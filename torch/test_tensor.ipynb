{
  "nbformat": 4,
  "nbformat_minor": 0,
  "metadata": {
    "colab": {
      "provenance": [],
      "gpuType": "T4",
      "authorship_tag": "ABX9TyN6AW67POnk128GwRSTewiJ",
      "include_colab_link": true
    },
    "kernelspec": {
      "name": "python3",
      "display_name": "Python 3"
    },
    "language_info": {
      "name": "python"
    },
    "accelerator": "GPU"
  },
  "cells": [
    {
      "cell_type": "markdown",
      "metadata": {
        "id": "view-in-github",
        "colab_type": "text"
      },
      "source": [
        "<a href=\"https://colab.research.google.com/github/shengxiaobufu/DL_learning/blob/main/torch/test_tensor.ipynb\" target=\"_parent\"><img src=\"https://colab.research.google.com/assets/colab-badge.svg\" alt=\"Open In Colab\"/></a>"
      ]
    },
    {
      "cell_type": "code",
      "execution_count": 1,
      "metadata": {
        "id": "u8vjZpaJN2vn"
      },
      "outputs": [],
      "source": [
        "import os\n",
        "import torch\n",
        "from torch import nn\n",
        "from torch import Tensor\n",
        "from torch.utils.data import DataLoader\n",
        "from torchvision import datasets, transforms"
      ]
    },
    {
      "cell_type": "code",
      "source": [
        "device = (\n",
        "    \"cuda\"\n",
        "    if torch.cuda.is_available()\n",
        "    else \"mps\"\n",
        "    if torch.backends.mps.is_available()\n",
        "    else \"cpu\"\n",
        ")\n",
        "print(f\"Using {device} device\")"
      ],
      "metadata": {
        "colab": {
          "base_uri": "https://localhost:8080/"
        },
        "id": "HujG4KBQOb3o",
        "outputId": "8411c384-9483-488c-a5a6-a297a84b3acc"
      },
      "execution_count": 2,
      "outputs": [
        {
          "output_type": "stream",
          "name": "stdout",
          "text": [
            "Using cuda device\n"
          ]
        }
      ]
    },
    {
      "cell_type": "code",
      "source": [
        "# create tensor\n",
        "import numpy as np\n",
        "t_from_list = torch.tensor([[1.,2], [3,4]])  # by list\n",
        "t_from_list_int = torch.tensor([[1,2], [3,4]])\n",
        "t_from_npy_int = torch.tensor(np.array([[1,2], [3,4]])) # numpy\n",
        "t_from_npy = torch.tensor(np.array([[1.,2], [3,4]]))\n",
        "print(t_from_list.type())\n",
        "print(t_from_list_int.type())\n",
        "print(t_from_npy.type())\n",
        "print(t_from_npy_int.type())"
      ],
      "metadata": {
        "colab": {
          "base_uri": "https://localhost:8080/"
        },
        "id": "UFWtgaSFO005",
        "outputId": "bb4a0eb7-c265-400a-fd78-588ffbaa8527"
      },
      "execution_count": 11,
      "outputs": [
        {
          "output_type": "stream",
          "name": "stdout",
          "text": [
            "torch.FloatTensor\n",
            "torch.LongTensor\n",
            "torch.DoubleTensor\n",
            "torch.LongTensor\n"
          ]
        }
      ]
    },
    {
      "cell_type": "code",
      "source": [
        "# move to gpu: copy but not move here\n",
        "ta2.to(device)\n",
        "print(ta2.device)\n",
        "ta3 = ta2.to(device)\n",
        "print(ta2.device)\n",
        "print(ta3.device)\n",
        "# or just init the tensor at target device\n",
        "t_from_npy = torch.tensor(np.array([[1.,2], [3,4]]), device=device)\n",
        "print(t_from_npy.device)"
      ],
      "metadata": {
        "colab": {
          "base_uri": "https://localhost:8080/"
        },
        "id": "ewMBjohqPO_I",
        "outputId": "5dd8e540-c163-45e7-bb8f-36c54c1f057c"
      },
      "execution_count": 22,
      "outputs": [
        {
          "output_type": "stream",
          "name": "stdout",
          "text": [
            "cpu\n",
            "cpu\n",
            "cuda:0\n",
            "cuda:0\n"
          ]
        }
      ]
    },
    {
      "cell_type": "code",
      "source": [
        "# use dtype to specify tensor type\n",
        "t_from_list = torch.tensor([[1.,2], [3,4]], dtype=torch.int32)  # by list\n",
        "print(t_from_list.type())"
      ],
      "metadata": {
        "colab": {
          "base_uri": "https://localhost:8080/"
        },
        "id": "HYYMSID7PT3L",
        "outputId": "0e823e66-0e02-4841-97e7-39724a4b77e2"
      },
      "execution_count": 23,
      "outputs": [
        {
          "output_type": "stream",
          "name": "stdout",
          "text": [
            "torch.IntTensor\n"
          ]
        }
      ]
    },
    {
      "cell_type": "code",
      "source": [
        "# init in target dim\n",
        "t_zero = torch.zeros([2, 1])\n",
        "print(t_zero.type(), t_zero)\n",
        "t_one = torch.ones([2, 1])\n",
        "print(t_one.type(), t_one)\n",
        "t_one = torch.ones([2, 1], dtype=torch.int32)\n",
        "print(t_one.type(), t_one)\n",
        "t_one = torch.ones([2, 1, 3], dtype=torch.float64)\n",
        "print(t_one.type(), t_one)"
      ],
      "metadata": {
        "colab": {
          "base_uri": "https://localhost:8080/"
        },
        "id": "ukoaYAuBQesn",
        "outputId": "7e6cc84e-6674-4f8a-bca2-d970a942e535"
      },
      "execution_count": 26,
      "outputs": [
        {
          "output_type": "stream",
          "name": "stdout",
          "text": [
            "torch.FloatTensor tensor([[0.],\n",
            "        [0.]])\n",
            "torch.FloatTensor tensor([[1.],\n",
            "        [1.]])\n",
            "torch.IntTensor tensor([[1],\n",
            "        [1]], dtype=torch.int32)\n",
            "torch.DoubleTensor tensor([[[1., 1., 1.]],\n",
            "\n",
            "        [[1., 1., 1.]]], dtype=torch.float64)\n"
          ]
        }
      ]
    },
    {
      "cell_type": "code",
      "source": [
        "# change dim\n",
        "t_one = torch.ones([2, 1, 3, 1], dtype=torch.float64, device=device)\n",
        "print(t_one)"
      ],
      "metadata": {
        "colab": {
          "base_uri": "https://localhost:8080/"
        },
        "id": "WSUd52zhTfjM",
        "outputId": "72f5b98d-7b57-45ba-b389-cf73d7b42995"
      },
      "execution_count": 36,
      "outputs": [
        {
          "output_type": "stream",
          "name": "stdout",
          "text": [
            "tensor([[[[1.],\n",
            "          [1.],\n",
            "          [1.]]],\n",
            "\n",
            "\n",
            "        [[[1.],\n",
            "          [1.],\n",
            "          [1.]]]], device='cuda:0', dtype=torch.float64)\n"
          ]
        }
      ]
    },
    {
      "cell_type": "code",
      "source": [
        "# slice of tensor, almost the same as numpy\n",
        "print(t_one[0])\n",
        "print(t_one[1][0])\n",
        "print(t_one[0, 0, :2])\n",
        "print(t_one[0][0][0][0])"
      ],
      "metadata": {
        "colab": {
          "base_uri": "https://localhost:8080/"
        },
        "id": "xeOJQUBoTyH6",
        "outputId": "f322ac0e-1859-4e54-b53a-4097fb6fe8c7"
      },
      "execution_count": 35,
      "outputs": [
        {
          "output_type": "stream",
          "name": "stdout",
          "text": [
            "tensor([[[1.],\n",
            "         [1.],\n",
            "         [1.]]], device='cuda:0', dtype=torch.float64)\n",
            "tensor([[1.],\n",
            "        [1.],\n",
            "        [1.]], device='cuda:0', dtype=torch.float64)\n",
            "tensor([[1.],\n",
            "        [1.]], device='cuda:0', dtype=torch.float64)\n",
            "tensor(1., device='cuda:0', dtype=torch.float64)\n"
          ]
        }
      ]
    },
    {
      "cell_type": "code",
      "source": [
        "# covert to pure number, use .item(), only allow one item, but not limit for one dim\n",
        "print(t_one[0][0][0][0])\n",
        "print(t_one[0][0][0][0].item())\n",
        "print(t_one[0][0][0])\n",
        "print(t_one[0][0][0].item())\n",
        "print(t_one[0][0])\n",
        "# print(t_one[0][0].item())   # RuntimeError: a Tensor with 3 elements cannot be converted to Scalar"
      ],
      "metadata": {
        "colab": {
          "base_uri": "https://localhost:8080/"
        },
        "id": "PMVx8juKUCjq",
        "outputId": "64845622-4c29-46df-d0c5-c6233e1dbebf"
      },
      "execution_count": 41,
      "outputs": [
        {
          "output_type": "stream",
          "name": "stdout",
          "text": [
            "tensor(1., device='cuda:0', dtype=torch.float64)\n",
            "1.0\n",
            "tensor([1.], device='cuda:0', dtype=torch.float64)\n",
            "1.0\n",
            "tensor([[1.],\n",
            "        [1.],\n",
            "        [1.]], device='cuda:0', dtype=torch.float64)\n"
          ]
        }
      ]
    },
    {
      "cell_type": "code",
      "source": [
        "# use autograd to enable grad calculate\n",
        "'''\n",
        "x = torch.tensor([[1., -1.], [1., 1.]], requires_grad=False)\n",
        "out = x.pow(2).sum()\n",
        "out.backward()\n",
        "# without set requires_grad=True, backward of functions of x is not usable\n",
        "# RuntimeError: element 0 of tensors does not require grad and does not have a grad_fn\n",
        "'''\n",
        "x = torch.tensor([[1., -1.], [1., 1.]], requires_grad=True)\n",
        "out = x.pow(2).sum()\n",
        "out.backward()\n",
        "print(x.grad)  # 这里返回的就是对x的一阶偏导数, d(x**2)/dx = 2x\n"
      ],
      "metadata": {
        "colab": {
          "base_uri": "https://localhost:8080/"
        },
        "id": "DVHT3S9OUp92",
        "outputId": "8fee3dfb-71fd-433b-b364-2cd85f65ebb0"
      },
      "execution_count": 46,
      "outputs": [
        {
          "output_type": "stream",
          "name": "stdout",
          "text": [
            "tensor([[ 2., -2.],\n",
            "        [ 2.,  2.]])\n"
          ]
        }
      ]
    },
    {
      "cell_type": "code",
      "source": [
        "x = torch.tensor([[1., -1.], [1., 1.]], requires_grad=True)\n",
        "\n",
        "out = (2*x.pow(2) + x).sum()\n",
        "out.backward()\n",
        "print(x.grad)  # 这里返回的就是对x的一阶偏导数, d(2x)/dx = 2*2*x + 1"
      ],
      "metadata": {
        "colab": {
          "base_uri": "https://localhost:8080/"
        },
        "id": "BdOxAM6gVTgU",
        "outputId": "0bbeaf9f-7b4f-48e4-f6bf-b26d4a1fa934"
      },
      "execution_count": 58,
      "outputs": [
        {
          "output_type": "stream",
          "name": "stdout",
          "text": [
            "tensor([[ 5., -3.],\n",
            "        [ 5.,  5.]])\n"
          ]
        }
      ]
    },
    {
      "cell_type": "code",
      "source": [
        "'''\n",
        "A torch.layout is an object that represents the memory layout of a torch.Tensor.\n",
        " Currently, we support torch.strided (dense Tensors) and have beta support for\n",
        " torch.sparse_coo (sparse COO Tensors).\n",
        "Strides are a list of integers: the k-th stride represents the jump in the memory\n",
        " necessary to go from one element to the next one in the k-th dimension of the Tensor.\n",
        " This concept makes it possible to perform many tensor operations efficiently.\n",
        "'''\n",
        "print(x.layout)\n",
        "print(x.stride())"
      ],
      "metadata": {
        "colab": {
          "base_uri": "https://localhost:8080/"
        },
        "id": "TfFH44OpXO1X",
        "outputId": "6979191c-1539-424b-e456-85d9c93197a4"
      },
      "execution_count": 64,
      "outputs": [
        {
          "output_type": "stream",
          "name": "stdout",
          "text": [
            "torch.strided\n",
            "(2, 1)\n"
          ]
        }
      ]
    },
    {
      "cell_type": "code",
      "source": [
        "x = torch.tensor([[1., 21, 31], [2., 22, 32]], requires_grad=True)\n",
        "print(x.layout)\n",
        "print(x.stride())\n",
        "# 按照dim1遍历，从1到2需要经过3个内存位置，按照dim2遍历，从1到21只需要经过一个内存位置\n",
        "# 在tensor特别大的时候通过这个来判断指针如何移动，提高效率"
      ],
      "metadata": {
        "colab": {
          "base_uri": "https://localhost:8080/"
        },
        "id": "VvBAnSUiWf2s",
        "outputId": "c41a1251-bf4e-43e1-8ccd-c6f85c22a5a0"
      },
      "execution_count": 69,
      "outputs": [
        {
          "output_type": "stream",
          "name": "stdout",
          "text": [
            "torch.strided\n",
            "(3, 1)\n"
          ]
        }
      ]
    },
    {
      "cell_type": "code",
      "source": [],
      "metadata": {
        "id": "bBBD0BCcX-E0"
      },
      "execution_count": null,
      "outputs": []
    }
  ]
}